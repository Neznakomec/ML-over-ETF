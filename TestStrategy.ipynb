{
 "cells": [
  {
   "cell_type": "code",
   "execution_count": 1,
   "metadata": {},
   "outputs": [],
   "source": [
    "import pandas\n",
    "import numpy as np\n",
    "#import import_ipynb\n",
    "#import FeatureStore"
   ]
  },
  {
   "cell_type": "code",
   "execution_count": 2,
   "metadata": {},
   "outputs": [],
   "source": [
    "#Параметры\n",
    "Period = 40\n",
    "ProbThreshold = 0.7\n",
    "clf = None\n",
    "mu = 0\n",
    "sigma = 0\n",
    "InitialCapital = 100000.0"
   ]
  },
  {
   "cell_type": "code",
   "execution_count": 3,
   "metadata": {},
   "outputs": [],
   "source": [
    "# Загружаем данные для бэктеста\n",
    "backtest = pandas.read_csv('SPY2019_ForTest.csv', delimiter=';')\n",
    "backtest['Date'] = pandas.to_datetime(backtest['Date'], format = '%d.%m.%Y')\n",
    "date = backtest.iloc[:, 0]\n",
    "Y = backtest.iloc[:,1]\n",
    "X = backtest.iloc[:, 2:46]"
   ]
  },
  {
   "cell_type": "code",
   "execution_count": 4,
   "metadata": {},
   "outputs": [],
   "source": [
    "# Загружаем данные по ETF\n",
    "stock_df = pandas.read_csv(\"SPY2019.csv\")\n",
    "# фильтруем\n",
    "stock_df = stock_df[stock_df['Date'] >= '2017-03-30']\n",
    "stock_df = stock_df[stock_df['Date'] <= '2019-09-18']\n",
    "stock_df.reset_index(drop = True, inplace = True)\n",
    "stock_df['Date'] = pandas.to_datetime(stock_df['Date'])"
   ]
  },
  {
   "cell_type": "code",
   "execution_count": 5,
   "metadata": {},
   "outputs": [],
   "source": [
    "from sklearn.preprocessing import StandardScaler\n",
    "\n",
    "#https://stackoverflow.com/questions/35723472/how-to-use-sklearn-fit-transform-with-pandas-and-return-dataframe-instead-of-num\n",
    "def scaleDataFrame(dataframe, debugPrint = False):\n",
    "    scaler = StandardScaler()\n",
    "    scaled_features = scaler.fit_transform(dataframe)\n",
    "    dataframe = pandas.DataFrame(scaled_features, index=dataframe.index, columns=dataframe.columns)\n",
    "    \n",
    "    #check\n",
    "    if debugPrint == True:\n",
    "        for column in dataframe:\n",
    "            print(\"[%s] mean = %.4f, variance = %.4f\" % \n",
    "                  (column, dataframe[column].mean(), dataframe[column].var()))\n",
    "    \n",
    "    return dataframe, scaler.mean_, scaler.scale_"
   ]
  },
  {
   "cell_type": "code",
   "execution_count": 6,
   "metadata": {},
   "outputs": [],
   "source": [
    "# тренируем классификатор\n",
    "from sklearn.neural_network import MLPClassifier\n",
    "\n",
    "def initStrategy(period):\n",
    "    #global sigma\n",
    "    #global mu\n",
    "    #global clf\n",
    "    #trying Alpha = 0.100000, period = 40, function = relu\n",
    "    alpha = 0.1\n",
    "    activation = 'relu'\n",
    "    \n",
    "    data = pandas.read_csv('SPY2019_ForTrain.csv', delimiter=';')\n",
    "    date = data.iloc[:, 0]\n",
    "    y_train = data.iloc[:,1]\n",
    "    X_train = data.iloc[:, 2:46]\n",
    "    \n",
    "    #print(y_train[:10])\n",
    "    y_train = pandas.Series(np.where(y_train.values >= 0, 1, 0),\n",
    "          y_train.index)\n",
    "    #print(y_train[:10])\n",
    "    #print(y_train)\n",
    "    #X_train = FeatureStore.getTrainDataset(period)\n",
    "    #y_train = FeatureStore.getTrainTarget(period)\n",
    "    \n",
    "    X_train, sigma, mu = scaleDataFrame(X_train, debugPrint = False)\n",
    "    #print(X_train)\n",
    "    \n",
    "    clf = MLPClassifier(hidden_layer_sizes=(100, 100), activation=activation, solver='sgd', \n",
    "                    alpha = alpha, max_iter = 10000, random_state=241)\n",
    "    clf.fit(X_train, y_train)\n",
    "    return clf, mu, sigma\n",
    "\n",
    "clf, mu, sigma = initStrategy(Period)"
   ]
  },
  {
   "cell_type": "code",
   "execution_count": 7,
   "metadata": {},
   "outputs": [],
   "source": [
    "# центрируем/нормируем бэктестовые данные точно так же, как тренировочную выробку\n",
    "X = ((X-mu) / sigma)\n",
    "# получаем прогнозы классификатора в виде вероятностей\n",
    "probs = clf.predict_proba(X)"
   ]
  },
  {
   "cell_type": "code",
   "execution_count": 8,
   "metadata": {},
   "outputs": [
    {
     "name": "stderr",
     "output_type": "stream",
     "text": [
      "C:\\Anaconda3\\lib\\site-packages\\ipykernel_launcher.py:25: SettingWithCopyWarning: \n",
      "A value is trying to be set on a copy of a slice from a DataFrame\n",
      "\n",
      "See the caveats in the documentation: http://pandas.pydata.org/pandas-docs/stable/user_guide/indexing.html#returning-a-view-versus-a-copy\n"
     ]
    }
   ],
   "source": [
    "Prob0 = probs[:, 0]\n",
    "Prob1 = probs[:, 1]\n",
    "\n",
    "Prob0[Prob0.size - Period:Prob0.size] = 0\n",
    "Prob1[Prob0.size - Period:Prob0.size] = 0\n",
    "#print(np.where(Prob0 >= ProbThreshold, -1, 0)[0:10])\n",
    "#print(np.where(Prob1 >= ProbThreshold, 1, 0)[0:10])\n",
    "\n",
    "ShortDeals = np.where(Prob0 >= ProbThreshold, -1, 0)\n",
    "LongDeals = np.where(Prob1 >= ProbThreshold, 1, 0)\n",
    "Position = ShortDeals + LongDeals\n",
    "CumulativePosition = np.zeros(Position.size)\n",
    "for index in range(0, Position.size):\n",
    "    CumulativePosition[index] = np.sum(Position[max(index - Period,0) : index + 1])\n",
    "    if (index < -1):\n",
    "        print(\"index %d pos %d\" % (index, CumulativePosition[index]))\n",
    "Result = (pandas.DataFrame({\"Date\": date, \"CumulativePosition\": CumulativePosition}))\n",
    "\n",
    "Result[\"Profit\"] = 0.0\n",
    "for index in range(1, Result.index.size):\n",
    "    #print(index)\n",
    "    pnl = Result[\"Profit\"]\n",
    "    close = stock_df[\"Adj Close\"]\n",
    "    #print(close)\n",
    "    pnl[index] = pnl[index - 1] + 100 * CumulativePosition[index] * (close[index] - close[index - 1])\n",
    "#print(PnL)\n",
    "\n",
    "Result['Capital'] = Result['Profit'] + InitialCapital\n",
    "\n",
    "Result.to_csv(\"test.csv\", index=False, sep=\";\")"
   ]
  },
  {
   "cell_type": "code",
   "execution_count": 38,
   "metadata": {},
   "outputs": [
    {
     "data": {
      "text/plain": [
       "Text(0, 0.5, 'Total capital')"
      ]
     },
     "execution_count": 38,
     "metadata": {},
     "output_type": "execute_result"
    },
    {
     "data": {
      "image/png": "[encoded data removed]",
      "text/plain": [
       "<Figure size 1152x432 with 1 Axes>"
      ]
     },
     "metadata": {
      "needs_background": "light"
     },
     "output_type": "display_data"
    }
   ],
   "source": [
    "import matplotlib.pyplot as plt\n",
    "%matplotlib inline\n",
    "\n",
    "#plt.plot(df['Date'], df['Profit'])\n",
    "fig = plt.figure(figsize=(16,6))\n",
    "plt.plot(Result['Date'], Result['Capital'], stock_df[''])\n",
    "fig.suptitle('Strategy performance', fontsize=20)\n",
    "plt.xlabel('date', fontsize=18)\n",
    "plt.ylabel('Total capital', fontsize=16)\n",
    "\n",
    "#ax = plt.plot(Result['Date'], Result['Capital'])\n",
    "#ax.xlabel('xlabel', fontsize=18)\n",
    "#df['Date'][20:50]\n",
    "#data"
   ]
  },
  {
   "cell_type": "code",
   "execution_count": 10,
   "metadata": {},
   "outputs": [
    {
     "name": "stdout",
     "output_type": "stream",
     "text": [
      "0.6244026014032875\n"
     ]
    }
   ],
   "source": [
    "# Считаем CAGR\n",
    "firstIndex = 0\n",
    "lastIndex = Result.index.size -1\n",
    "#print(lastIndex)\n",
    "date2 = Result['Date'][lastIndex]\n",
    "date1 = Result['Date'][firstIndex]\n",
    "td = date2 - date1\n",
    "years = td / np.timedelta64(1, 'Y')\n",
    "EndValue = Result['Profit'][lastIndex]\n",
    "BeginValue = Result['Profit'][firstIndex]\n",
    "BeginValue += InitialCapital\n",
    "EndValue += InitialCapital\n",
    "cagr = (EndValue / BeginValue) ** (1/years) - 1\n",
    "print(cagr)\n",
    "#print(BeginValue, EndValue, years)"
   ]
  },
  {
   "cell_type": "code",
   "execution_count": 11,
   "metadata": {},
   "outputs": [
    {
     "name": "stdout",
     "output_type": "stream",
     "text": [
      "0.7011151152389645\n"
     ]
    }
   ],
   "source": [
    "# Волатильность стратегии\n",
    "#volatility formula may be wrong, taken from here https://stackoverflow.com/a/43285442\n",
    "volatility = Result['Capital'].pct_change(1).std()*(252**0.5)\n",
    "print(volatility)"
   ]
  },
  {
   "cell_type": "code",
   "execution_count": 12,
   "metadata": {},
   "outputs": [
    {
     "name": "stdout",
     "output_type": "stream",
     "text": [
      "0.013935029664186582\n"
     ]
    }
   ],
   "source": [
    "# Средняя прибыль на сделку\n",
    "DealCount = abs(ShortDeals.sum()) + LongDeals.sum()\n",
    "AverageProfit = (EndValue - BeginValue) / DealCount\n",
    "lastPrice = stock_df['Adj Close'][lastIndex]\n",
    "AverageProfit /= lastPrice * 100\n",
    "print(AverageProfit)"
   ]
  },
  {
   "cell_type": "code",
   "execution_count": 13,
   "metadata": {},
   "outputs": [
    {
     "name": "stdout",
     "output_type": "stream",
     "text": [
      "Sharpe Ratio = 0.06459721754926423\n"
     ]
    }
   ],
   "source": [
    "# Sharpe Ratio\n",
    "#https://towardsdatascience.com/calculating-sharpe-ratio-with-python-755dcb346805\n",
    "daily_return = Result['Capital'].pct_change(1)\n",
    "#print(Result['Capital'].pct_change(1))\n",
    "#print(daily_return.mean())\n",
    "#print(daily_return.std())\n",
    "SR = daily_return.mean() / daily_return.std()\n",
    "SR_1Y = (252**0.5) * SR\n",
    "print(\"Sharpe Ratio =\", SR)"
   ]
  },
  {
   "cell_type": "code",
   "execution_count": 14,
   "metadata": {},
   "outputs": [
    {
     "data": {
      "text/plain": [
       "array([[1.        , 0.98722176],\n",
       "       [0.98722176, 1.        ]])"
      ]
     },
     "execution_count": 14,
     "metadata": {},
     "output_type": "execute_result"
    }
   ],
   "source": [
    "# correlation to S&P 500\n",
    "np.corrcoef(Result['Capital'], stock_df['Adj Close'])"
   ]
  }
 ],
 "metadata": {
  "kernelspec": {
   "display_name": "Python 3",
   "language": "python",
   "name": "python3"
  },
  "language_info": {
   "codemirror_mode": {
    "name": "ipython",
    "version": 3
   },
   "file_extension": ".py",
   "mimetype": "text/x-python",
   "name": "python",
   "nbconvert_exporter": "python",
   "pygments_lexer": "ipython3",
   "version": "3.7.4"
  }
 },
 "nbformat": 4,
 "nbformat_minor": 2
}
