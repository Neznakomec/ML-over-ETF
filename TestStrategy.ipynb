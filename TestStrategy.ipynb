{
 "cells": [
  {
   "cell_type": "code",
   "execution_count": 1,
   "metadata": {},
   "outputs": [
    {
     "name": "stdout",
     "output_type": "stream",
     "text": [
      "importing Jupyter notebook from FeatureStore.ipynb\n"
     ]
    }
   ],
   "source": [
    "import pandas\n",
    "import numpy as np\n",
    "import import_ipynb\n",
    "import FeatureStore\n",
    "\n",
    "Period = 40"
   ]
  },
  {
   "cell_type": "code",
   "execution_count": 2,
   "metadata": {},
   "outputs": [],
   "source": [
    "from sklearn.preprocessing import StandardScaler\n",
    "\n",
    "#https://stackoverflow.com/questions/35723472/how-to-use-sklearn-fit-transform-with-pandas-and-return-dataframe-instead-of-num\n",
    "def scaleDataFrame(dataframe, debugPrint = False):\n",
    "    scaler = StandardScaler()\n",
    "    scaled_features = scaler.fit_transform(dataframe)\n",
    "    dataframe = pandas.DataFrame(scaled_features, index=dataframe.index, columns=dataframe.columns)\n",
    "    \n",
    "    #check\n",
    "    if debugPrint == True:\n",
    "        for column in dataframe:\n",
    "            print(\"[%s] mean = %.4f, variance = %.4f\" % \n",
    "                  (column, dataframe[column].mean(), dataframe[column].var()))\n",
    "    \n",
    "    return dataframe, scaler.mean_, scaler.scale_"
   ]
  },
  {
   "cell_type": "code",
   "execution_count": null,
   "metadata": {},
   "outputs": [],
   "source": [
    "from sklearn.neural_network import MLPClassifier\n",
    "\n",
    "sigma = 0\n",
    "mu = 0\n",
    "clf = []\n",
    "def backtestStrategy(Porog = 0.5):\n",
    "    global sigma\n",
    "    global mu\n",
    "    global clf\n",
    "    #trying Alpha = 0.100000, period = 40, function = relu\n",
    "    period = 40\n",
    "    alpha = 0.1\n",
    "    activation = 'relu'\n",
    "    \n",
    "    data = pandas.read_csv('SPY2019_ForTrain.csv', delimiter=';')\n",
    "    date = data.iloc[:, 0]\n",
    "    y_train = data.iloc[:,1]\n",
    "    X_train = data.iloc[:, 2:46]\n",
    "    \n",
    "    #print(y_train[:10])\n",
    "    y_train = pandas.Series(np.where(y_train.values >= 0, 1, 0),\n",
    "          y_train.index)\n",
    "    #print(y_train[:10])\n",
    "    #print(y_train)\n",
    "    #X_train = FeatureStore.getTrainDataset(period)\n",
    "    #y_train = FeatureStore.getTrainTarget(period)\n",
    "    \n",
    "    X_train, sigma, mu = scaleDataFrame(X_train, debugPrint = False)\n",
    "    #print(X_train)\n",
    "    \n",
    "    clf = MLPClassifier(hidden_layer_sizes=(100, 100), activation=activation, solver='sgd', \n",
    "                    alpha = alpha, max_iter = 100000, random_state=241)\n",
    "    clf.fit(X_train, y_train)\n",
    "    \n",
    "    pass\n",
    "    data = pandas.read_csv('SPY2019_ForTest.csv', delimiter=';')\n",
    "    date = data.iloc[:, 0]\n",
    "    Y = data.iloc[:,1]\n",
    "    X = data.iloc[:, 2:46]\n",
    "    \n",
    "    probs = clf.predict(X)\n",
    "    pass\n",
    "\n",
    "backtestStrategy()\n",
    "print(sigma)\n",
    "print(mu)\n",
    "\n",
    "#data = pandas.read_csv('SPY2019_ForTest.csv', delimiter=';')\n",
    "#date = data.iloc[:, 0]\n",
    "#Y = data.iloc[:,1]\n",
    "#X = data.iloc[:, 2:46]\n",
    "\n",
    "#X\n",
    "#print(X)\n",
    "#data"
   ]
  },
  {
   "cell_type": "code",
   "execution_count": null,
   "metadata": {},
   "outputs": [],
   "source": [
    "print(sigma)\n",
    "print(mu)"
   ]
  },
  {
   "cell_type": "code",
   "execution_count": null,
   "metadata": {},
   "outputs": [],
   "source": [
    "import matplotlib.pyplot as plt\n",
    "import math\n",
    "data = pandas.read_csv('SPY2019_ForTest.csv', delimiter=';')\n",
    "data['Date'] = pandas.to_datetime(data['Date'])\n",
    "date = data.iloc[:, 0]\n",
    "Y = data.iloc[:,1]\n",
    "X = data.iloc[:, 2:46]\n",
    "\n",
    "#print(X)\n",
    "X = ((X-mu) / sigma)\n",
    "\n",
    "probs = clf.predict_proba(X)\n",
    "#plt.plot(probs[:,0])\n",
    "\n",
    "#print(X.shape) #[622 rows x 44 columns]\n",
    "#print(Y.shape)\n",
    "#for index in range(0, date.size):\n",
    "#    print(\"%s;%s;%s\" %(date[index], probs[index,0], probs[index,1]))"
   ]
  },
  {
   "cell_type": "code",
   "execution_count": null,
   "metadata": {},
   "outputs": [],
   "source": [
    "Prob0 = probs[:, 0]\n",
    "Prob1 = probs[:, 1]\n",
    "\n",
    "Prob0[Prob0.size - Period:Prob0.size] = 0\n",
    "Prob1[Prob0.size - Period:Prob0.size] = 0\n",
    "print(np.where(Prob0 >= 0.7, -1, 0)[0:10])\n",
    "print(np.where(Prob1 >= 0.7, 1, 0)[0:10])\n",
    "\n",
    "Position = np.where(Prob0 >= 0.7, -1, 0) + np.where(Prob1 >= 0.7, 1, 0)\n",
    "print(Position[:10])\n",
    "CumulativePosition = np.zeros(Position.size)\n",
    "for index in range(0, Position.size):\n",
    "    CumulativePosition[index] = np.sum(Position[max(index - Period,0) : index + 1])\n",
    "    if (index < -1):\n",
    "        print(\"index %d pos %d\" % (index, CumulativePosition[index]))\n",
    "df = (pandas.DataFrame({\"Date\": date, \"CumulativePosition\": CumulativePosition}))\n",
    "#df.to_csv(\"test.csv\", index=False, sep=\";\")\n",
    "\n",
    "data2 = pandas.read_csv(\"SPY2019.csv\")\n",
    "data2 = data2[data2['Date'] >= '2017-03-30']\n",
    "data2 = data2[data2['Date'] <= '2019-09-18']\n",
    "data2.reset_index(drop = True, inplace = True)\n",
    "data2['Date'] = pandas.to_datetime(data2['Date'])\n",
    "#print(data2)\n",
    "\n",
    "df[\"Profit\"] = 0.0\n",
    "for index in range(1, df.index.size):\n",
    "    #print(index)\n",
    "    pnl = df[\"Profit\"]\n",
    "    close = data2[\"Adj Close\"]\n",
    "    #print(close)\n",
    "    pnl[index] = pnl[index - 1] + 100 * CumulativePosition[index] * (close[index] - close[index - 1])\n",
    "#print(PnL)\n",
    "df.to_csv(\"test.csv\", index=False, sep=\";\")"
   ]
  },
  {
   "cell_type": "code",
   "execution_count": null,
   "metadata": {},
   "outputs": [],
   "source": [
    "import matplotlib.pyplot as plt\n",
    "%matplotlib inline\n",
    "\n",
    "plt.plot(df['Date'], df['Profit'])"
   ]
  },
  {
   "cell_type": "code",
   "execution_count": null,
   "metadata": {},
   "outputs": [],
   "source": [
    "date2 = df['Date'][621]\n",
    "date1 = df['Date'][0]\n",
    "print(type(date2))"
   ]
  }
 ],
 "metadata": {
  "kernelspec": {
   "display_name": "Python 3",
   "language": "python",
   "name": "python3"
  },
  "language_info": {
   "codemirror_mode": {
    "name": "ipython",
    "version": 3
   },
   "file_extension": ".py",
   "mimetype": "text/x-python",
   "name": "python",
   "nbconvert_exporter": "python",
   "pygments_lexer": "ipython3",
   "version": "3.7.4"
  }
 },
 "nbformat": 4,
 "nbformat_minor": 2
}
