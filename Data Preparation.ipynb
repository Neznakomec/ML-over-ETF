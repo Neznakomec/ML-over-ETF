{
 "cells": [
  {
   "cell_type": "code",
   "execution_count": 127,
   "metadata": {},
   "outputs": [],
   "source": [
    "import pandas\n",
    "START_DATE = '2011-01-01'\n",
    "END_DATE = '2017-01-01'\n",
    "\n",
    "def preprocess(filename, start_date, end_date):\n",
    "    TradingDaysPeriods = [1, 2, 3, 5, 10, 20, 40, 60, 120, 250]\n",
    "    \n",
    "    data = pandas.read_csv(filename, delimiter=',')\n",
    "    data['Date'] = pd.to_datetime(data['Date'])\n",
    "\n",
    "    return_features = pandas.DataFrame()\n",
    "    volume_features = pandas.DataFrame()\n",
    "    for period in TradingDaysPeriods:\n",
    "        column = data['Adj Close'].pct_change(periods = period)\n",
    "        column.rename(\"Return_\" + str(period), inplace = True)\n",
    "        return_features[column.name] = column\n",
    "        \n",
    "        column = data['Volume'].rolling(period).mean()\n",
    "        column.rename(\"AverageVolume_\" + str(period), inplace = True)\n",
    "        volume_features[column.name] = column\n",
    "\n",
    "    out_data = pandas.concat([return_features, volume_features], axis=1)\n",
    "    out_data.insert(0, 'Date', data['Date'])\n",
    "    out_data['DayOfWeek'] = out_data['Date'].dt.dayofweek\n",
    "    out_data['DayOfMonth'] = out_data['Date'].dt.day\n",
    "    \n",
    "    #https://stackoverflow.com/questions/29370057/select-dataframe-rows-between-two-dates\n",
    "    mask = (out_data['Date'] >= start_date) & (out_data['Date'] <= end_date)\n",
    "    out_data = out_data.loc[mask]\n",
    "    out_data.to_csv(path_or_buf = \"features_\" + filename, index=False, sep=';') #, sep=';'\n",
    "    \n",
    "preprocess('SPY.csv', START_DATE, END_DATE)\n"
   ]
  }
 ],
 "metadata": {
  "kernelspec": {
   "display_name": "Python 3",
   "language": "python",
   "name": "python3"
  },
  "language_info": {
   "codemirror_mode": {
    "name": "ipython",
    "version": 3
   },
   "file_extension": ".py",
   "mimetype": "text/x-python",
   "name": "python",
   "nbconvert_exporter": "python",
   "pygments_lexer": "ipython3",
   "version": "3.7.4"
  }
 },
 "nbformat": 4,
 "nbformat_minor": 2
}
