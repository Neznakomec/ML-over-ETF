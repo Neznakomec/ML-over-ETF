{
 "cells": [
  {
   "cell_type": "code",
   "execution_count": 4,
   "metadata": {},
   "outputs": [
    {
     "name": "stdout",
     "output_type": "stream",
     "text": [
      "[1. 1. 1. ... 0. 0. 0.]\n",
      "<class 'numpy.ndarray'>\n"
     ]
    }
   ],
   "source": [
    "import pandas\n",
    "import import_ipynb\n",
    "import FeatureStore\n",
    "\n",
    "X_train = FeatureStore.getTrainDataset(2)\n",
    "y_train = FeatureStore.getTrainTarget(2)"
   ]
  },
  {
   "cell_type": "code",
   "execution_count": 5,
   "metadata": {},
   "outputs": [],
   "source": [
    "from sklearn.preprocessing import StandardScaler\n",
    "\n",
    "#https://stackoverflow.com/questions/35723472/how-to-use-sklearn-fit-transform-with-pandas-and-return-dataframe-instead-of-num\n",
    "def scaleDataFrame(dataframe, debugPrint = False):\n",
    "    scaler = StandardScaler()\n",
    "    scaled_features = scaler.fit_transform(dataframe)\n",
    "    dataframe = pandas.DataFrame(scaled_features, index=dataframe.index, columns=dataframe.columns)\n",
    "    \n",
    "    #check\n",
    "    if debugPrint == True:\n",
    "        for column in dataframe:\n",
    "            print(\"[%s] mean = %.4f, variance = %.4f\" % \n",
    "                  (column, dataframe[column].mean(), dataframe[column].var()))\n",
    "    \n",
    "    return dataframe"
   ]
  },
  {
   "cell_type": "code",
   "execution_count": null,
   "metadata": {},
   "outputs": [
    {
     "name": "stdout",
     "output_type": "stream",
     "text": [
      "(1057, 6)\n",
      "(1057,)\n",
      "trying C = 0.0001\n",
      "from 2019-11-13 16:44:05.126446\n",
      "[0.57790368 0.58522727 0.61931818]\n",
      "0.5941497124216671\n",
      "to 2019-11-13 16:44:05.198446\n",
      "trying C = 0.001\n",
      "from 2019-11-13 16:44:05.203470\n",
      "[0.57790368 0.58522727 0.61931818]\n",
      "0.5941497124216671\n",
      "to 2019-11-13 16:44:05.278468\n",
      "trying C = 0.01\n",
      "from 2019-11-13 16:44:05.282535\n",
      "[0.57790368 0.58522727 0.61931818]\n",
      "0.5941497124216671\n",
      "to 2019-11-13 16:44:05.360449\n",
      "trying C = 0.1\n",
      "from 2019-11-13 16:44:05.365535\n",
      "[0.57790368 0.58522727 0.61931818]\n",
      "0.5941497124216671\n",
      "to 2019-11-13 16:44:05.436446\n",
      "trying C = 1.0\n",
      "from 2019-11-13 16:44:05.440448\n",
      "[0.57790368 0.58522727 0.61931818]\n",
      "0.5941497124216671\n",
      "to 2019-11-13 16:44:05.523476\n",
      "trying C = 10.0\n",
      "from 2019-11-13 16:44:05.527536\n",
      "[0.57790368 0.58522727 0.61931818]\n",
      "0.5941497124216671\n",
      "to 2019-11-13 16:44:05.702446\n",
      "trying C = 100.0\n",
      "from 2019-11-13 16:44:05.710444\n"
     ]
    }
   ],
   "source": [
    "from sklearn import svm, datasets\n",
    "from sklearn.model_selection import GridSearchCV\n",
    "from sklearn.model_selection import KFold\n",
    "\n",
    "from sklearn.model_selection import cross_val_score\n",
    "\n",
    "from datetime import datetime\n",
    "\n",
    "# C = 1000.0 algorithm hangs!\n",
    "C = [0.0001, 0.001, 0.01, 0.1, 1.0, 10.0, 100.0]\n",
    "#C = {1.0}\n",
    "#grid = {'C': np.power(10.0, np.arange(-4, 0))}\n",
    "\n",
    "print (X_train.shape)\n",
    "print (y_train.shape)\n",
    "for penalty in C:\n",
    "    print(\"trying C = \" + str(penalty))\n",
    "    kf = KFold(n_splits=3, shuffle=False, random_state=241)\n",
    "    \n",
    "    X_train = scaleDataFrame(X_train, debugPrint = False)\n",
    "\n",
    "    clf = svm.SVC(C = penalty, kernel = 'linear', random_state=241)\n",
    "    #N = 800\n",
    "    #XX = X_train.iloc[:N, :]\n",
    "    #yy = y_train[:N]\n",
    "    XX = X_train\n",
    "    yy = y_train\n",
    "    print(\"from\", datetime.now())\n",
    "    scores = cross_val_score(clf, XX, yy, scoring='accuracy', cv=kf)\n",
    "    print(scores)\n",
    "    print(scores.mean())\n",
    "    print(\"to\", datetime.now())\n",
    "    \n",
    "    continue;\n",
    "    for train_index, test_index in cv.split(X_train):\n",
    "        #clf = svm.SVC(kernel='linear', random_state=241)\n",
    "        clf = svm.SVC(C = 1.0, kernel = 'linear', verbose = True, random_state=241)\n",
    "        #XX = X_train.loc[train_index, ['Return_1', 'AverageVolume_1']]\n",
    "        XX = X_train.loc[train_index, :]\n",
    "        yy = y_train[train_index]\n",
    "        #print(train_index[:])\n",
    "        #print(X_train[0:13])\n",
    "        #print(XX.iloc[:20,:])\n",
    "        print(XX.iloc[:20, 0:1])\n",
    "        #print(yy[:10])\n",
    "        \n",
    "        print(\"XX type\",type(XX))\n",
    "        print(XX.shape)\n",
    "        print(yy.shape)\n",
    "        #XX.to_csv(\"XX.csv\", sep = \";\")\n",
    "        print(\"fit start\")\n",
    "        clf.fit(XX.iloc[:100, 0:2], yy[:100])\n",
    "        print(\"fit end\")\n",
    "        y_pred = clf.predict(X_train.iloc[:,0:2])\n",
    "        print(y_pred)\n",
    "        \n",
    "        #clf.fit(X_train[train_index], y_train[train_index])\n",
    "#gs = GridSearchCV(clf, grid, scoring='accuracy', cv=cv)\n",
    "#gs.fit(X, y)"
   ]
  }
 ],
 "metadata": {
  "kernelspec": {
   "display_name": "Python 3",
   "language": "python",
   "name": "python3"
  },
  "language_info": {
   "codemirror_mode": {
    "name": "ipython",
    "version": 3
   },
   "file_extension": ".py",
   "mimetype": "text/x-python",
   "name": "python",
   "nbconvert_exporter": "python",
   "pygments_lexer": "ipython3",
   "version": "3.7.4"
  }
 },
 "nbformat": 4,
 "nbformat_minor": 2
}
